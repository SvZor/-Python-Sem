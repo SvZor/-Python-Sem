{
 "cells": [
  {
   "cell_type": "markdown",
   "id": "de458c8b",
   "metadata": {},
   "source": [
    "С помощью какого тега можно добавить изображение в markdown?\n",
    "ответ - <img>"
   ]
  },
  {
   "cell_type": "code",
   "execution_count": 1,
   "id": "db0d86b4",
   "metadata": {},
   "outputs": [
    {
     "data": {
      "text/plain": [
       "'abcd'"
      ]
     },
     "execution_count": 1,
     "metadata": {},
     "output_type": "execute_result"
    }
   ],
   "source": [
    "def copy(a: list) -> list:\n",
    "    return a[:]\n",
    "\n",
    "copy('abcd')"
   ]
  },
  {
   "cell_type": "code",
   "execution_count": 2,
   "id": "5c732d99",
   "metadata": {},
   "outputs": [
    {
     "data": {
      "text/plain": [
       "7000"
      ]
     },
     "execution_count": 2,
     "metadata": {},
     "output_type": "execute_result"
    }
   ],
   "source": [
    "data = {\n",
    "    'name' : 'john',\n",
    "    'age' : 20,\n",
    "    'salary' : 8000,\n",
    "    'city' : 'Boston'\n",
    "}\n",
    "\n",
    "data.setdefault ('saiary' , 7000)"
   ]
  },
  {
   "cell_type": "markdown",
   "id": "06cdb235",
   "metadata": {},
   "source": [
    "С помощью какой функции из модуля Random можно получить случайные объекты из списка?\n",
    "Ответ:\n",
    "- random.sample\n",
    "- random.choice"
   ]
  },
  {
   "cell_type": "code",
   "execution_count": 4,
   "id": "0770f673",
   "metadata": {},
   "outputs": [
    {
     "data": {
      "text/plain": [
       "'Hello, name'"
      ]
     },
     "execution_count": 4,
     "metadata": {},
     "output_type": "execute_result"
    }
   ],
   "source": [
    "def say_halloo (name, greeting = 'Hello'):\n",
    "    return f'{greeting}, name'\n",
    "# say_halloo (greeting = 'Hi' , 'John') № не верно, так как в функции константа закреплена\n",
    "say_halloo ('John') # верно"
   ]
  },
  {
   "cell_type": "markdown",
   "id": "c01cddbc",
   "metadata": {},
   "source": [
    "Особенности генератора Python:\n",
    "- может обрабатывать большие объемы данных без переполнения памяти\n",
    "- хранит в памяти последний вычисленный элемент"
   ]
  },
  {
   "cell_type": "code",
   "execution_count": 5,
   "id": "20d7e56a",
   "metadata": {},
   "outputs": [
    {
     "ename": "SyntaxError",
     "evalue": "expected 'else' after 'if' expression (1466082996.py, line 1)",
     "output_type": "error",
     "traceback": [
      "  \u001b[36mCell\u001b[39m\u001b[36m \u001b[39m\u001b[32mIn[5]\u001b[39m\u001b[32m, line 1\u001b[39m\n\u001b[31m    \u001b[39m\u001b[31m[i if i % 2 == 0 for i in range (5)]\u001b[39m\n     ^\n\u001b[31mSyntaxError\u001b[39m\u001b[31m:\u001b[39m expected 'else' after 'if' expression\n"
     ]
    }
   ],
   "source": [
    "[i if i % 2 == 0 for i in range (5)] #цикл следует начинат с for иначе ошибка"
   ]
  },
  {
   "cell_type": "markdown",
   "id": "411cfefa",
   "metadata": {},
   "source": [
    "С помощью фигурных скобок {} какие создаются comperehensions?\n",
    "- set comperehensions\n",
    "- dict comperehensions"
   ]
  },
  {
   "cell_type": "code",
   "execution_count": 6,
   "id": "a6d2f7f2",
   "metadata": {},
   "outputs": [
    {
     "data": {
      "text/plain": [
       "{0, 1, 2, 3, 4}"
      ]
     },
     "execution_count": 6,
     "metadata": {},
     "output_type": "execute_result"
    }
   ],
   "source": [
    "{i for i in range(5)}"
   ]
  },
  {
   "cell_type": "code",
   "execution_count": 7,
   "id": "b13b949c",
   "metadata": {},
   "outputs": [
    {
     "data": {
      "text/plain": [
       "{0: 0, 1: 1, 2: 2, 3: 3, 4: 4}"
      ]
     },
     "execution_count": 7,
     "metadata": {},
     "output_type": "execute_result"
    }
   ],
   "source": [
    "{i: i for i in range(5)}"
   ]
  },
  {
   "cell_type": "markdown",
   "id": "4f8e4a43",
   "metadata": {},
   "source": [
    "*Задачи семинара*\n",
    "**Решаем вместе с преподавателем**"
   ]
  },
  {
   "cell_type": "markdown",
   "id": "5bf699c2",
   "metadata": {},
   "source": [
    "Задание 0.\n",
    "Весь ноутбук оформляйте с заголовками и текстами:\n",
    "Номер задачи - заголовок 2\n",
    "Номер подзадачи - заголовок 3\n",
    "Предоставленные наборы данных оформляйте, как код\n",
    "\n",
    "# Заголовок первого уровня\n",
    "## Заголовок второго уровня\n",
    "### Заголовок третьего уровня\n",
    "#### Заголовок четвёртого уровня\n",
    "##### Заголовок пятого уровня\n",
    "###### Заголовок шестого уровня"
   ]
  },
  {
   "cell_type": "markdown",
   "id": "86eb6a2e",
   "metadata": {},
   "source": [
    "## Задание 1.\n",
    "### 1.1 Соедините два словаря в один\n",
    "dict1 = {'one' : 1, 'Two' : 2, 'Three' : 3}\n",
    "dict2 = {'Four' : 4, 'Five' : 5, 'Six' : 6}"
   ]
  },
  {
   "cell_type": "code",
   "execution_count": 8,
   "id": "7a4f24d1",
   "metadata": {},
   "outputs": [
    {
     "data": {
      "text/plain": [
       "{'one': 1, 'Two': 2, 'Three': 3, 'Four': 4, 'Five': 5, 'Six': 6}"
      ]
     },
     "execution_count": 8,
     "metadata": {},
     "output_type": "execute_result"
    }
   ],
   "source": [
    "dict1 = {'one' : 1, 'Two' : 2, 'Three' : 3}\n",
    "dict2 = {'Four' : 4, 'Five' : 5, 'Six' : 6}\n",
    "dict1.update(dict2)\n",
    "dict1"
   ]
  },
  {
   "cell_type": "markdown",
   "id": "2c8f226d",
   "metadata": {},
   "source": [
    "### 1.2 Напишите функцию, которая на вход принимает два\n",
    "словаря и возвращает один объединенный словарь\n",
    "Используйте аннотирование типов"
   ]
  },
  {
   "cell_type": "code",
   "execution_count": 9,
   "id": "ff9f9fab",
   "metadata": {},
   "outputs": [
    {
     "data": {
      "text/plain": [
       "{'one': 1, 'Two': 2, 'Three': 3, 'Four': 4, 'Five': 5, 'Six': 6}"
      ]
     },
     "execution_count": 9,
     "metadata": {},
     "output_type": "execute_result"
    }
   ],
   "source": [
    "def unite(d1: dict, d2: dict) -> dict:\n",
    "    d1.update(d2)\n",
    "    return d1\n",
    "dict1 = {'one' : 1, 'Two' : 2, 'Three' : 3}\n",
    "dict2 = {'Four' : 4, 'Five' : 5, 'Six' : 6}\n",
    "unite(dict1, dict2)"
   ]
  },
  {
   "cell_type": "code",
   "execution_count": 10,
   "id": "4889bc28",
   "metadata": {},
   "outputs": [
    {
     "name": "stdout",
     "output_type": "stream",
     "text": [
      "{'One': 1, 'Two': 2, 'Three': 3}\n"
     ]
    }
   ],
   "source": [
    "keys = ['One', 'Two', 'Three']\n",
    "vaiues = [1, 2, 3]\n",
    "print(dict(zip(keys, vaiues)))"
   ]
  },
  {
   "cell_type": "markdown",
   "id": "d02de314",
   "metadata": {},
   "source": [
    "## Задание 2.\n",
    "Напишите функцию, которая из двух списков, делает один словарь, где\n",
    "элементы из первого списка - ключи, а элементы из второго списка -\n",
    "значения\n",
    "\n",
    "keys = ['One', 'Two', 'Three']\n",
    "values = [1, 2, 3]\n",
    "\n",
    "Используйте аннотирование типов"
   ]
  },
  {
   "cell_type": "markdown",
   "id": "6e0dc2d3",
   "metadata": {},
   "source": [
    "### 2.1 Используя цикл for"
   ]
  },
  {
   "cell_type": "code",
   "execution_count": 11,
   "id": "f4596e90",
   "metadata": {},
   "outputs": [
    {
     "data": {
      "text/plain": [
       "{'One': 1, 'Two': 2, 'Three': 3}"
      ]
     },
     "execution_count": 11,
     "metadata": {},
     "output_type": "execute_result"
    }
   ],
   "source": [
    "keys = ['One', 'Two', 'Three']\n",
    "values = [1, 2, 3]\n",
    "def make_dict (ks: list, vs: values) -> dict:\n",
    "    d = {}\n",
    "    for i in range(len(ks)):\n",
    "        d.update({ks[i] : vs[i]})\n",
    "    return d\n",
    "\n",
    "make_dict(keys, values)"
   ]
  },
  {
   "cell_type": "markdown",
   "id": "38974183",
   "metadata": {},
   "source": [
    "### 2.2 Используя dict comprehensions"
   ]
  },
  {
   "cell_type": "code",
   "execution_count": 13,
   "id": "40752c28",
   "metadata": {},
   "outputs": [
    {
     "data": {
      "text/plain": [
       "{'One': 1, 'Two': 2, 'Three': 3}"
      ]
     },
     "execution_count": 13,
     "metadata": {},
     "output_type": "execute_result"
    }
   ],
   "source": [
    "keys = ['One', 'Two', 'Three']\n",
    "values = [1, 2, 3]\n",
    "dict = {keys[i]: values[i] for i in range(len(keys))}\n",
    "dict"
   ]
  },
  {
   "cell_type": "markdown",
   "id": "54181e0c",
   "metadata": {},
   "source": [
    "## Задание 3.\n",
    "Извлеките только два ключа name и age из представленного\n",
    "словаря\n",
    "\n",
    "client_dict = {\n",
    "    \"name\" : \"John\",\n",
    "    \"age\" : 25,\n",
    "    \"salary\" : 5000,\n",
    "    \"city\" : \"Moscow\"\n",
    "}\n",
    "\n",
    "Оформление ноутбука и закрепление функций и генераторов\n",
    "\n",
    "### 3.1 Напишите функцию с циклом for\n",
    "Функция на вход принимает:\n",
    "исходный словарь\n",
    "ключи, которые нужно извлечь (аргумент по\n",
    "умолчанию)\n",
    "На выходе словарь с нужными ключами\n",
    "Используйте аннотирование типов"
   ]
  },
  {
   "cell_type": "code",
   "execution_count": null,
   "id": "62abe617",
   "metadata": {},
   "outputs": [
    {
     "data": {
      "text/plain": [
       "{'salary': 5000, 'name': 'John'}"
      ]
     },
     "execution_count": 25,
     "metadata": {},
     "output_type": "execute_result"
    }
   ],
   "source": [
    "client_dict = {\"name\" : \"John\", \"age\" : 25, \"salary\" : 5000, \"city\" : \"Moscow\"}\n",
    "\n",
    "# Объявление функции extract, \n",
    "# которая принимает словарь (cd) и список ключей (extr_keys), возвращает словарь\n",
    "\n",
    "def extract(cd: dict, extr_keys: list) -> dict:\n",
    "    # Создание пустого словаря для хранения извлеченных данных\n",
    "    extr_dict = {}\n",
    "    # Цикл по всем ключам в списке extr_keys\n",
    "    for k in extr_keys:\n",
    "        # Добавление в новый словарь пары ключ-значение из исходного словаря\n",
    "        extr_dict.update({k: cd[k]})\n",
    "        # Возврат нового словаря с извлеченными данными\n",
    "    return extr_dict\n",
    "    \n",
    "extract(client_dict, ['salary', 'name'])\n",
    "\n",
    "# extr_dict[k] = cd[k]  # явное присваивание ключу k значения cd[k]\n"
   ]
  },
  {
   "cell_type": "markdown",
   "id": "57fa06fb",
   "metadata": {},
   "source": [
    "### 3.2 Используя dict comprehensions"
   ]
  },
  {
   "cell_type": "code",
   "execution_count": 26,
   "id": "c25f4ab8",
   "metadata": {},
   "outputs": [
    {
     "data": {
      "text/plain": [
       "{'salary': 5000, 'name': 'John'}"
      ]
     },
     "execution_count": 26,
     "metadata": {},
     "output_type": "execute_result"
    }
   ],
   "source": [
    "client_dict = {\"name\" : \"John\", \"age\" : 25, \"salary\" : 5000, \"city\" : \"Moscow\"}\n",
    "\n",
    "def extract(cd: dict, extr_keys: list) -> dict:\n",
    "    return {k: cd[k] for k in extr_keys}\n",
    "\n",
    "extract(client_dict, ['salary', 'name'])  # {'salary': 5000, 'name': 'John'}"
   ]
  },
  {
   "cell_type": "code",
   "execution_count": 27,
   "id": "44eebb25",
   "metadata": {},
   "outputs": [
    {
     "data": {
      "text/plain": [
       "{'salary': 5000, 'name': 'John'}"
      ]
     },
     "execution_count": 27,
     "metadata": {},
     "output_type": "execute_result"
    }
   ],
   "source": [
    "client_dict = {\"name\" : \"John\", \"age\" : 25, \"salary\" : 5000, \"city\" : \"Moscow\"}\n",
    "\n",
    "def extract(cd: dict, extr_keys: list) -> dict:\n",
    "    return {k: cd[k] for k in extr_keys if k in cd}\n",
    "\n",
    "extract(client_dict, ['salary', 'name', 'pet'])  \n",
    "# {'salary': 5000, 'name': 'John'} (ключ 'pet' пропущен)"
   ]
  },
  {
   "cell_type": "code",
   "execution_count": 31,
   "id": "ab92296d",
   "metadata": {},
   "outputs": [
    {
     "name": "stdout",
     "output_type": "stream",
     "text": [
      "{'salary': 5000, 'name': 'John'} {'salary': 10000, 'name': 'John'}\n"
     ]
    }
   ],
   "source": [
    "# Исходный словарь с данными клиента\n",
    "client_dict = {\"name\": \"John\", \"age\": 25, \"salary\": 5000, \"city\": \"Moscow\"}\n",
    "\n",
    "# Список ключей, которые нужно извлечь\n",
    "keys_to_extract = ['salary', 'name']\n",
    "\n",
    "# 1. Базовое извлечение ключей с проверкой их наличия в словаре\n",
    "result = {k: client_dict[k] for k in keys_to_extract if k in client_dict}\n",
    "# Результат: {'salary': 5000, 'name': 'John'}\n",
    "\n",
    "# 2. Извлечение с преобразованием: числа умножаются на 2, строки остаются без изменений\n",
    "result2 = {k: client_dict[k] * 2 if isinstance(client_dict[k], int) else client_dict[k] \n",
    "          for k in keys_to_extract}\n",
    "# Результат: {'salary': 10000, 'name': 'John'}\n",
    "\n",
    "# Вывод результатов\n",
    "print(result, result2)  # ({'salary': 5000, 'name': 'John'}, {'salary': 10000, 'name': 'John'})"
   ]
  },
  {
   "cell_type": "code",
   "execution_count": 32,
   "id": "376a19e8",
   "metadata": {},
   "outputs": [
    {
     "data": {
      "text/plain": [
       "{'name': 'John', 'age': 25}"
      ]
     },
     "execution_count": 32,
     "metadata": {},
     "output_type": "execute_result"
    }
   ],
   "source": [
    "# Исходный словарь с данными клиента\n",
    "client_dict = {\"name\": \"John\", \"age\": 25, \"salary\": 5000, \"city\": \"Moscow\"}\n",
    "extr_dict = {k: client_dict[k] for k in ['name', 'age']}\n",
    "extr_dict"
   ]
  },
  {
   "cell_type": "markdown",
   "id": "1b944e63",
   "metadata": {},
   "source": [
    "**Задание 4.**\n",
    "*4.1 Сгенерируйте случайные целые числа от 0 до 100 в количестве 5 штук с помощью модуля random*\n",
    "● Зафиксируйте псевдогенерацию, чтобы\n",
    "сгенерированные значения всегда были одинаковые\n",
    "● Используйте list comprehensions"
   ]
  },
  {
   "cell_type": "code",
   "execution_count": 41,
   "id": "b2a485b6",
   "metadata": {},
   "outputs": [
    {
     "data": {
      "text/plain": [
       "29"
      ]
     },
     "execution_count": 41,
     "metadata": {},
     "output_type": "execute_result"
    }
   ],
   "source": [
    "import random as rd  # Импортируем модуль random с псевдонимом rd\n",
    "rd.seed(8)          # Устанавливаем начальное значение (seed) генератора случайных чисел\n",
    "rd.randint(0, 100)  # Генерируем случайное целое число от 0 до 100 включительно"
   ]
  },
  {
   "cell_type": "code",
   "execution_count": 45,
   "id": "da3c91bc",
   "metadata": {},
   "outputs": [
    {
     "name": "stdout",
     "output_type": "stream",
     "text": [
      "29\n",
      "47\n"
     ]
    }
   ],
   "source": [
    "import random as rd\n",
    "rd.seed(8)\n",
    "print(rd.randint(0, 100))  # Всегда 29\n",
    "print(rd.randint(0, 100))  # Следующее число в фиксированной последовательности (например, 47)"
   ]
  },
  {
   "cell_type": "code",
   "execution_count": 46,
   "id": "64eec49f",
   "metadata": {},
   "outputs": [
    {
     "name": "stdout",
     "output_type": "stream",
     "text": [
      "29 47\n"
     ]
    }
   ],
   "source": [
    "import random as rd\n",
    "rd.seed(8)\n",
    "first = rd.randint(0, 100)  # Всегда 29 при seed=8 в Python 3.11+\n",
    "second = rd.randint(0, 100)  # Всегда 47\n",
    "print(first, second) "
   ]
  },
  {
   "cell_type": "code",
   "execution_count": 50,
   "id": "784b168e",
   "metadata": {},
   "outputs": [
    {
     "data": {
      "text/plain": [
       "[58, 49, 63, 73, 24]"
      ]
     },
     "execution_count": 50,
     "metadata": {},
     "output_type": "execute_result"
    }
   ],
   "source": [
    "import random as rd\n",
    "data = [rd.randint(0, 100) for i in range (5)]\n",
    "data"
   ]
  },
  {
   "cell_type": "markdown",
   "id": "aa9c532b",
   "metadata": {},
   "source": [
    "*4.2 Напишите генератор*\n",
    "● Генератор на вход принимает список с данными о клиенте (данные\n",
    "из пункта 4.1)\n",
    "● Внутри генератора реализуйте обход по списку с данными\n",
    "На каждой итерации генератор будет возвращать кортеж из двух\n",
    "элементов:\n",
    "1. данные по клиенту (в зависимости от итерации, на 0 итерации\n",
    "вернется 0 элемент, на 1 итерации вернется 1 элемент и тд)\n",
    "2. целочисленное значение, которое показывает, сколько секунд\n",
    "прошло с предыдущей итерации\n",
    "Примечание: секунды, которые возвращаются должны показывать время не\n",
    "с начала запуска генератора, а именно то время, которое прошло с\n",
    "предыдущей итерации. А значит время на первой итерации должно\n",
    "равняться 0.\n",
    "● Используйте функцию time из модуля time для подсчета времени.\n",
    "● Чтобы проверить работу таймера, запустите проход по генератору в цикле с time.sleep(2)"
   ]
  },
  {
   "cell_type": "markdown",
   "id": "8f118972",
   "metadata": {},
   "source": [
    "**Задание 5.**\n",
    "*5.1 Найдите картинку в интернете и прикрепите её в ячейку с текстом*\n",
    "*5.2 Создайте следующую таблицу в ячейке с текстом*"
   ]
  },
  {
   "cell_type": "markdown",
   "id": "ffc70159",
   "metadata": {},
   "source": [
    "**Задание 6.**\n",
    "Напишите функцию, которая может принимать любое\n",
    "количество трат пользователя и считать сумму и среднее.\n",
    "● На вход поступают целочисленные значения в любом\n",
    "количестве\n",
    "● На выходе словарь с ключами суммы трат и средней\n",
    "траты"
   ]
  },
  {
   "cell_type": "markdown",
   "id": "2ed13466",
   "metadata": {},
   "source": [
    "**Домашнее задание 1**\n",
    "Оформление ноутбука и закрепление функций и генераторов\n",
    "Оформляйте ноутбук, используя эти советы:\n",
    "● Номер задачи - заголовок 2\n",
    "● Номер подзадачи - заголовок 3\n",
    "● Предоставленные наборы данных оформляйте, как код"
   ]
  },
  {
   "cell_type": "markdown",
   "id": "430c4324",
   "metadata": {},
   "source": [
    "**Домашнее задание 2**\n",
    "Оформление ноутбука и закрепление функций и генераторов\n",
    "На складе лежат разные фрукты в разном количестве.\n",
    "Нужно написать функцию, которая на вход принимает любое\n",
    "количество названий фруктов и их количество, а возвращает\n",
    "общее количество фруктов на складе"
   ]
  },
  {
   "cell_type": "markdown",
   "id": "6f6af4a5",
   "metadata": {},
   "source": [
    "**Домашнее задание 3**\n",
    "Оформление ноутбука и закрепление функций и генераторов\n",
    "Дан список с затратами на рекламу. Но в данных есть ошибки,\n",
    "некоторые затраты имеют отрицательную величину. Удалите\n",
    "такие значения из списка и посчитайте суммарные затраты\n",
    "[100, 125, -90, 345, 655, -1, 0, 200]\n",
    "Используйте list comprehensions"
   ]
  },
  {
   "cell_type": "markdown",
   "id": "ceb587f4",
   "metadata": {},
   "source": [
    "**Домашнее задание 4**\n",
    "Оформление ноутбука и закрепление функций и генераторов\n",
    "Даны два списка.\n",
    "Дата покупки\n",
    "['2021-09-14', '2021-12-15', '2021-09-08', '2021-12-05', '2021-10-09', '2021-09-30', '2021-12-22', '2021-11-29', '2021-12-24', '2021-11-26', '2021-10-27', '2021-12-18', '2021-11-09', '2021-11-23', '2021-09-27',\n",
    "'2021-10-02', '2021-12-27', '2021-09-20', '2021-12-13', '2021-11-01', '2021-11-09', '2021-12-06', '2021-12-08', '2021-10-09', '2021-10-31', '2021-09-30', '2021-11-09', '2021-12-13', '2021-10-26', '2021-12-09']\n",
    "Суммы покупок по датам\n",
    "[1270, 8413, 9028, 3703, 5739, 4095, 295, 4944, 5723, 3701, 4471, 651, 7037, 4274, 6275, 4988, 6930, 2971, 6592, 2004, 2822, 519, 3406, 2732, 5015, 2008, 316, 6333, 5700, 2887]\n",
    "*4.1 Найдите, какая выручка у компании в ноябре*\n",
    "Используйте list comprehensions\n",
    "*4.2 Найдите выручку компании в зависимости от месяца*\n",
    "Для этого напишите функцию, которая на вход принимает список с датами и список с выручкой, а на выходе словарь, где\n",
    "ключи - это месяцы, а значения - это выручка.\n",
    "Используйте аннотирование типов."
   ]
  }
 ],
 "metadata": {
  "kernelspec": {
   "display_name": "Python 3",
   "language": "python",
   "name": "python3"
  },
  "language_info": {
   "codemirror_mode": {
    "name": "ipython",
    "version": 3
   },
   "file_extension": ".py",
   "mimetype": "text/x-python",
   "name": "python",
   "nbconvert_exporter": "python",
   "pygments_lexer": "ipython3",
   "version": "3.11.0"
  }
 },
 "nbformat": 4,
 "nbformat_minor": 5
}
