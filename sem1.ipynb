{
 "cells": [
  {
   "cell_type": "markdown",
   "id": "de458c8b",
   "metadata": {},
   "source": [
    "С помощью какого тега можно добавить изображение в markdown?\n",
    "ответ - <img>"
   ]
  },
  {
   "cell_type": "code",
   "execution_count": 1,
   "id": "db0d86b4",
   "metadata": {},
   "outputs": [
    {
     "data": {
      "text/plain": [
       "'abcd'"
      ]
     },
     "execution_count": 1,
     "metadata": {},
     "output_type": "execute_result"
    }
   ],
   "source": [
    "def copy(a: list) -> list:\n",
    "    return a[:]\n",
    "\n",
    "copy('abcd')"
   ]
  },
  {
   "cell_type": "code",
   "execution_count": 2,
   "id": "5c732d99",
   "metadata": {},
   "outputs": [
    {
     "data": {
      "text/plain": [
       "7000"
      ]
     },
     "execution_count": 2,
     "metadata": {},
     "output_type": "execute_result"
    }
   ],
   "source": [
    "data = {\n",
    "    'name' : 'john',\n",
    "    'age' : 20,\n",
    "    'salary' : 8000,\n",
    "    'city' : 'Boston'\n",
    "}\n",
    "\n",
    "data.setdefault ('saiary' , 7000)"
   ]
  },
  {
   "cell_type": "markdown",
   "id": "06cdb235",
   "metadata": {},
   "source": [
    "С помощью какой функции из модуля Random можно получить случайные объекты из списка?\n",
    "Ответ:\n",
    "- random.sample\n",
    "- random.choice"
   ]
  },
  {
   "cell_type": "code",
   "execution_count": null,
   "id": "0770f673",
   "metadata": {},
   "outputs": [
    {
     "data": {
      "text/plain": [
       "'Hello, name'"
      ]
     },
     "execution_count": 4,
     "metadata": {},
     "output_type": "execute_result"
    }
   ],
   "source": [
    "def say_halloo (name, greeting = 'Hello'):\n",
    "    return f'{greeting}, name'\n",
    "# say_halloo (greeting = 'Hi' , 'John') № не верно, так как в функции константа закреплена\n",
    "say_halloo ('John') # верно"
   ]
  },
  {
   "cell_type": "markdown",
   "id": "c01cddbc",
   "metadata": {},
   "source": [
    "Особенности генератора Python:\n",
    "- может обрабатывать большие объемы данных без переполнения памяти\n",
    "- хранит в памяти последний вычисленный элемент"
   ]
  },
  {
   "cell_type": "code",
   "execution_count": null,
   "id": "20d7e56a",
   "metadata": {},
   "outputs": [
    {
     "ename": "SyntaxError",
     "evalue": "expected 'else' after 'if' expression (1466082996.py, line 1)",
     "output_type": "error",
     "traceback": [
      "  \u001b[36mCell\u001b[39m\u001b[36m \u001b[39m\u001b[32mIn[5]\u001b[39m\u001b[32m, line 1\u001b[39m\n\u001b[31m    \u001b[39m\u001b[31m[i if i % 2 == 0 for i in range (5)]\u001b[39m\n     ^\n\u001b[31mSyntaxError\u001b[39m\u001b[31m:\u001b[39m expected 'else' after 'if' expression\n"
     ]
    }
   ],
   "source": [
    "[i if i % 2 == 0 for i in range (5)] #цикл следует начинат с for иначе ошибка"
   ]
  },
  {
   "cell_type": "markdown",
   "id": "411cfefa",
   "metadata": {},
   "source": [
    "С помощью фигурных скобок {} какие создаются comperehensions?\n",
    "- set comperehensions\n",
    "- dict comperehensions"
   ]
  },
  {
   "cell_type": "code",
   "execution_count": 6,
   "id": "a6d2f7f2",
   "metadata": {},
   "outputs": [
    {
     "data": {
      "text/plain": [
       "{0, 1, 2, 3, 4}"
      ]
     },
     "execution_count": 6,
     "metadata": {},
     "output_type": "execute_result"
    }
   ],
   "source": [
    "{i for i in range(5)}"
   ]
  },
  {
   "cell_type": "code",
   "execution_count": 7,
   "id": "b13b949c",
   "metadata": {},
   "outputs": [
    {
     "data": {
      "text/plain": [
       "{0: 0, 1: 1, 2: 2, 3: 3, 4: 4}"
      ]
     },
     "execution_count": 7,
     "metadata": {},
     "output_type": "execute_result"
    }
   ],
   "source": [
    "{i: i for i in range(5)}"
   ]
  }
 ],
 "metadata": {
  "kernelspec": {
   "display_name": "Python 3",
   "language": "python",
   "name": "python3"
  },
  "language_info": {
   "codemirror_mode": {
    "name": "ipython",
    "version": 3
   },
   "file_extension": ".py",
   "mimetype": "text/x-python",
   "name": "python",
   "nbconvert_exporter": "python",
   "pygments_lexer": "ipython3",
   "version": "3.11.0"
  }
 },
 "nbformat": 4,
 "nbformat_minor": 5
}
