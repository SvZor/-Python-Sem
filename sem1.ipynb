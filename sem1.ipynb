{
 "cells": [
  {
   "cell_type": "markdown",
   "id": "de458c8b",
   "metadata": {},
   "source": [
    "С помощью какого тега можно добавить изображение в markdown?\n",
    "ответ - <img>"
   ]
  },
  {
   "cell_type": "code",
   "execution_count": 1,
   "id": "db0d86b4",
   "metadata": {},
   "outputs": [
    {
     "data": {
      "text/plain": [
       "'abcd'"
      ]
     },
     "execution_count": 1,
     "metadata": {},
     "output_type": "execute_result"
    }
   ],
   "source": [
    "def copy(a: list) -> list:\n",
    "    return a[:]\n",
    "\n",
    "copy('abcd')"
   ]
  }
 ],
 "metadata": {
  "kernelspec": {
   "display_name": "Python 3",
   "language": "python",
   "name": "python3"
  },
  "language_info": {
   "codemirror_mode": {
    "name": "ipython",
    "version": 3
   },
   "file_extension": ".py",
   "mimetype": "text/x-python",
   "name": "python",
   "nbconvert_exporter": "python",
   "pygments_lexer": "ipython3",
   "version": "3.11.0"
  }
 },
 "nbformat": 4,
 "nbformat_minor": 5
}
