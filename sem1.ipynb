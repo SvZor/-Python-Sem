{
 "cells": [
  {
   "cell_type": "markdown",
   "id": "de458c8b",
   "metadata": {},
   "source": [
    "С помощью какого тега можно добавить изображение в markdown?\n",
    "ответ - <img>"
   ]
  },
  {
   "cell_type": "code",
   "execution_count": 1,
   "id": "db0d86b4",
   "metadata": {},
   "outputs": [
    {
     "data": {
      "text/plain": [
       "'abcd'"
      ]
     },
     "execution_count": 1,
     "metadata": {},
     "output_type": "execute_result"
    }
   ],
   "source": [
    "def copy(a: list) -> list:\n",
    "    return a[:]\n",
    "\n",
    "copy('abcd')"
   ]
  },
  {
   "cell_type": "code",
   "execution_count": 2,
   "id": "5c732d99",
   "metadata": {},
   "outputs": [
    {
     "data": {
      "text/plain": [
       "7000"
      ]
     },
     "execution_count": 2,
     "metadata": {},
     "output_type": "execute_result"
    }
   ],
   "source": [
    "data = {\n",
    "    'name' : 'john',\n",
    "    'age' : 20,\n",
    "    'salary' : 8000,\n",
    "    'city' : 'Boston'\n",
    "}\n",
    "\n",
    "data.setdefault ('saiary' , 7000)"
   ]
  },
  {
   "cell_type": "markdown",
   "id": "06cdb235",
   "metadata": {},
   "source": [
    "С помощью какой функции из модуля Random можно получить случайные объекты из списка?\n",
    "Ответ:\n",
    "- random.sample\n",
    "- random.choice"
   ]
  },
  {
   "cell_type": "code",
   "execution_count": null,
   "id": "0770f673",
   "metadata": {},
   "outputs": [
    {
     "data": {
      "text/plain": [
       "'Hello, name'"
      ]
     },
     "execution_count": 4,
     "metadata": {},
     "output_type": "execute_result"
    }
   ],
   "source": [
    "def say_halloo (name, greeting = 'Hello'):\n",
    "    return f'{greeting}, name'\n",
    "# say_halloo (greeting = 'Hi' , 'John') № не верно, так как в функции константа закреплена\n",
    "say_halloo ('John') # верно"
   ]
  },
  {
   "cell_type": "markdown",
   "id": "c01cddbc",
   "metadata": {},
   "source": [
    "Особенности генератора Python:\n",
    "- может обрабатывать большие объемы данных без переполнения памяти\n",
    "- хранит в памяти последний вычисленный элемент"
   ]
  },
  {
   "cell_type": "code",
   "execution_count": null,
   "id": "20d7e56a",
   "metadata": {},
   "outputs": [
    {
     "ename": "SyntaxError",
     "evalue": "expected 'else' after 'if' expression (1466082996.py, line 1)",
     "output_type": "error",
     "traceback": [
      "  \u001b[36mCell\u001b[39m\u001b[36m \u001b[39m\u001b[32mIn[5]\u001b[39m\u001b[32m, line 1\u001b[39m\n\u001b[31m    \u001b[39m\u001b[31m[i if i % 2 == 0 for i in range (5)]\u001b[39m\n     ^\n\u001b[31mSyntaxError\u001b[39m\u001b[31m:\u001b[39m expected 'else' after 'if' expression\n"
     ]
    }
   ],
   "source": [
    "[i if i % 2 == 0 for i in range (5)] #цикл следует начинат с for иначе ошибка"
   ]
  },
  {
   "cell_type": "markdown",
   "id": "411cfefa",
   "metadata": {},
   "source": [
    "С помощью фигурных скобок {} какие создаются comperehensions?\n",
    "- set comperehensions\n",
    "- dict comperehensions"
   ]
  },
  {
   "cell_type": "code",
   "execution_count": 6,
   "id": "a6d2f7f2",
   "metadata": {},
   "outputs": [
    {
     "data": {
      "text/plain": [
       "{0, 1, 2, 3, 4}"
      ]
     },
     "execution_count": 6,
     "metadata": {},
     "output_type": "execute_result"
    }
   ],
   "source": [
    "{i for i in range(5)}"
   ]
  },
  {
   "cell_type": "code",
   "execution_count": 7,
   "id": "b13b949c",
   "metadata": {},
   "outputs": [
    {
     "data": {
      "text/plain": [
       "{0: 0, 1: 1, 2: 2, 3: 3, 4: 4}"
      ]
     },
     "execution_count": 7,
     "metadata": {},
     "output_type": "execute_result"
    }
   ],
   "source": [
    "{i: i for i in range(5)}"
   ]
  },
  {
   "cell_type": "markdown",
   "id": "4f8e4a43",
   "metadata": {},
   "source": [
    "*Задачи семинара*\n",
    "**Решаем вместе с преподавателем**"
   ]
  },
  {
   "cell_type": "markdown",
   "id": "5bf699c2",
   "metadata": {},
   "source": [
    "Задание 0.\n",
    "Весь ноутбук оформляйте с заголовками и текстами:\n",
    "Номер задачи - заголовок 2\n",
    "Номер подзадачи - заголовок 3\n",
    "Предоставленные наборы данных оформляйте, как код"
   ]
  },
  {
   "cell_type": "markdown",
   "id": "86eb6a2e",
   "metadata": {},
   "source": [
    "**Задание 1.**\n",
    "*1.1 Соедините два словаря в один*\n",
    "dict1 = {'one' : 1, 'Two' : 2, 'Three' : 3}\n",
    "dict2 = {'Four' : 4, 'Five' : 5, 'Six' : 6}\n",
    "\n",
    "*1.2 Напишите функцию, которая на вход принимает два*\n",
    "словаря и возвращает один объединенный словарь\n",
    "Используйте аннотирование типов"
   ]
  },
  {
   "cell_type": "markdown",
   "id": "d02de314",
   "metadata": {},
   "source": [
    "**Задание 2.**\n",
    "Напишите функцию, которая из двух списков, делает один словарь, где\n",
    "элементы из первого списка - ключи, а элементы из второго списка -\n",
    "значения\n",
    "\n",
    "keys = ['One', 'Two', 'Three']\n",
    "values = [1, 2, 3]\n",
    "\n",
    "Используйте аннотирование типов\n",
    "*2.1 Используя цикл for*\n",
    "*2.2 Используя dict comprehensions*"
   ]
  },
  {
   "cell_type": "markdown",
   "id": "54181e0c",
   "metadata": {},
   "source": [
    "**Задание 3.**\n",
    "Извлеките только два ключа name и age из представленного\n",
    "словаря\n",
    "\n",
    "client_dict = {\n",
    "    \"name\" : \"John\",\n",
    "    \"age\" : 25,\n",
    "    \"salary\" : 5000,\n",
    "    \"city\" : \"Moscow\"\n",
    "}\n",
    "\n",
    "Оформление ноутбука и закрепление функций и генераторов\n",
    "\n",
    "*3.1 Напишите функцию с циклом for*\n",
    "Функция на вход принимает:\n",
    "исходный словарь\n",
    "ключи, которые нужно извлечь (аргумент по\n",
    "умолчанию)\n",
    "На выходе словарь с нужными ключами\n",
    "Используйте аннотирование типов\n",
    "*3.2 Используя dict comprehensions*"
   ]
  },
  {
   "cell_type": "markdown",
   "id": "1b944e63",
   "metadata": {},
   "source": [
    "**Задание 4.**\n",
    "*4.1 Сгенерируйте случайные целые числа от 0 до 100 в количестве 5 штук с помощью модуля random*\n",
    "● Зафиксируйте псевдогенерацию, чтобы\n",
    "сгенерированные значения всегда были одинаковые\n",
    "● Используйте list comprehensions\n",
    "*4.2 Напишите генератор*\n",
    "● Генератор на вход принимает список с данными о клиенте (данные\n",
    "из пункта 4.1)\n",
    "● Внутри генератора реализуйте обход по списку с данными\n",
    "На каждой итерации генератор будет возвращать кортеж из двух\n",
    "элементов:\n",
    "1. данные по клиенту (в зависимости от итерации, на 0 итерации\n",
    "вернется 0 элемент, на 1 итерации вернется 1 элемент и тд)\n",
    "2. целочисленное значение, которое показывает, сколько секунд\n",
    "прошло с предыдущей итерации\n",
    "Примечание: секунды, которые возвращаются должны показывать время не\n",
    "с начала запуска генератора, а именно то время, которое прошло с\n",
    "предыдущей итерации. А значит время на первой итерации должно\n",
    "равняться 0.\n",
    "● Используйте функцию time из модуля time для подсчета времени.\n",
    "● Чтобы проверить работу таймера, запустите проход по генератору в цикле с time.sleep(2)"
   ]
  },
  {
   "cell_type": "markdown",
   "id": "8f118972",
   "metadata": {},
   "source": [
    "**Задание 5.**\n",
    "*5.1 Найдите картинку в интернете и прикрепите её в ячейку с текстом*\n",
    "*5.2 Создайте следующую таблицу в ячейке с текстом*"
   ]
  },
  {
   "cell_type": "markdown",
   "id": "ffc70159",
   "metadata": {},
   "source": [
    "**Задание 6.**\n",
    "Напишите функцию, которая может принимать любое\n",
    "количество трат пользователя и считать сумму и среднее.\n",
    "● На вход поступают целочисленные значения в любом\n",
    "количестве\n",
    "● На выходе словарь с ключами суммы трат и средней\n",
    "траты"
   ]
  },
  {
   "cell_type": "markdown",
   "id": "2ed13466",
   "metadata": {},
   "source": []
  }
 ],
 "metadata": {
  "kernelspec": {
   "display_name": "Python 3",
   "language": "python",
   "name": "python3"
  },
  "language_info": {
   "codemirror_mode": {
    "name": "ipython",
    "version": 3
   },
   "file_extension": ".py",
   "mimetype": "text/x-python",
   "name": "python",
   "nbconvert_exporter": "python",
   "pygments_lexer": "ipython3",
   "version": "3.11.0"
  }
 },
 "nbformat": 4,
 "nbformat_minor": 5
}
