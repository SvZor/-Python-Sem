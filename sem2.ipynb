{
 "cells": [
  {
   "cell_type": "markdown",
   "id": "e4e2698e",
   "metadata": {},
   "source": [
    "Задача 1:\n",
    "Скачать данные из файла\n",
    "kc_house_data\n",
    "Считать данные с помощью pandas\n",
    "1. Вывести на экран первые 5 строк\n",
    "2. Посмотреть на описание признаков и на их содержание"
   ]
  },
  {
   "cell_type": "code",
   "execution_count": null,
   "id": "0419bcf6",
   "metadata": {},
   "outputs": [],
   "source": []
  }
 ],
 "metadata": {
  "language_info": {
   "name": "python"
  }
 },
 "nbformat": 4,
 "nbformat_minor": 5
}
